{
 "cells": [
  {
   "cell_type": "code",
   "execution_count": 3,
   "id": "903f092b-3f05-45ac-b276-cc001fd5ab89",
   "metadata": {},
   "outputs": [
    {
     "name": "stdout",
     "output_type": "stream",
     "text": [
      "✅ All imports successful!\n"
     ]
    }
   ],
   "source": [
    "# Cell 1: Setup and Imports\n",
    "import sys\n",
    "import json\n",
    "import os\n",
    "sys.path.append('src')  # Add src to path so we can import our modules\n",
    "\n",
    "from algebra import *\n",
    "from word_problems import *\n",
    "from calculus import *\n",
    "\n",
    "print(\"✅ All imports successful!\")"
   ]
  },
  {
   "cell_type": "code",
   "execution_count": null,
   "id": "558f212a-d40c-4395-93fb-5b68075db853",
   "metadata": {},
   "outputs": [],
   "source": [
    "# Cell 15: Quick Test All Generators\n",
    "print(\"=== QUICK TEST ALL GENERATORS ===\")\n",
    "\n",
    "generators = [\n",
    "    (\"Algebra - Linear 1V\", Generate_Linear_One_V()),\n",
    "    (\"Algebra - Linear 2V\", Generate_Linear_Two_V()),\n",
    "    (\"Algebra - Quadratic\", Generate_Quadratic_One_V()),\n",
    "    (\"Algebra - Inequality\", Generate_Linear_Inequality_One_V()),\n",
    "    (\"Algebra - Simplify\", Generate_Simplify_Polynomial()),\n",
    "    (\"Word - Percentages\", Generate_Percentage_Problem()),\n",
    "    (\"Word - Rate/Work\", Generate_Rate_Work_Problem()),\n",
    "    (\"Word - Age\", Generate_Age_Problem()),\n",
    "    (\"Word - Mixture\", Generate_Mixture_Problem()),\n",
    "    (\"Calc - Polynomial Deriv\", Generate_Polynomial_Derivative()),\n",
    "    (\"Calc - Trig Deriv\", Generate_Trigonometric_Derivative()),\n",
    "    (\"Calc - Exp Deriv\", Generate_Exponential_Derivative()),\n",
    "    (\"Calc - Log Deriv\", Generate_Logarithmic_Derivative()),\n",
    "]\n",
    "\n",
    "for name, generator in generators:\n",
    "    question, json_data = generator.generate_question(\"medium\")\n",
    "    print(f\"\\n🔹 {name}:\")\n",
    "    print(f\"   Q: {question[:80]}...\")\n",
    "    print(f\"   Type: {json_data['type']}\")\n",
    "    print(f\"   Level: {json_data['level']}\")\n",
    "    if 'variable' in json_data:\n",
    "        print(f\"   Variable: {json_data['variable']}\")\n",
    "    if 'lhs' in json_data:\n",
    "        print(f\"   LHS: {json_data['lhs']}\")\n",
    "    if 'rhs' in json_data:\n",
    "        print(f\"   RHS: {json_data['rhs']}\")\n",
    "    if 'expression' in json_data:\n",
    "        print(f\"   Expression: {json_data['expression']}\")\n",
    "\n",
    "print(\"\\n✅ All generators working!\")"
   ]
  }
 ],
 "metadata": {
  "kernelspec": {
   "display_name": "Python 3 (ipykernel)",
   "language": "python",
   "name": "python3"
  },
  "language_info": {
   "codemirror_mode": {
    "name": "ipython",
    "version": 3
   },
   "file_extension": ".py",
   "mimetype": "text/x-python",
   "name": "python",
   "nbconvert_exporter": "python",
   "pygments_lexer": "ipython3",
   "version": "3.8.10"
  }
 },
 "nbformat": 4,
 "nbformat_minor": 5
}
